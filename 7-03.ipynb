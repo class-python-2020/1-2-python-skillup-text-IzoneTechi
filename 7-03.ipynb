{
 "metadata": {
  "language_info": {
   "codemirror_mode": {
    "name": "ipython",
    "version": 3
   },
   "file_extension": ".py",
   "mimetype": "text/x-python",
   "name": "python",
   "nbconvert_exporter": "python",
   "pygments_lexer": "ipython3",
   "version": "3.8.2-final"
  },
  "orig_nbformat": 2,
  "kernelspec": {
   "name": "python_defaultSpec_1598175269795",
   "display_name": "Python 3.8.2 32-bit"
  }
 },
 "nbformat": 4,
 "nbformat_minor": 2,
 "cells": [
  {
   "cell_type": "code",
   "execution_count": 1,
   "metadata": {
    "tags": []
   },
   "outputs": [
    {
     "output_type": "stream",
     "name": "stdout",
     "text": "例外Aが発生しました\n"
    }
   ],
   "source": [
    "class ExceptA(Exception):\n",
    "    def __str__(self):\n",
    "        return \"例外Aが発生しました\"\n",
    "try:\n",
    "    raise ExceptA()\n",
    "except ExceptA as ea:\n",
    "    print(ea)\n",
    "except:\n",
    "    print('Unexpected Error:',sys.exc_info())"
   ]
  },
  {
   "cell_type": "code",
   "execution_count": 2,
   "metadata": {
    "tags": []
   },
   "outputs": [
    {
     "output_type": "stream",
     "name": "stdout",
     "text": "値の取りうる範囲を超えています100 101 10000 \n"
    },
    {
     "output_type": "execute_result",
     "data": {
      "text/plain": "10000"
     },
     "metadata": {},
     "execution_count": 2
    }
   ],
   "source": [
    "import sys\n",
    "class MyValueLimitError(Exception):\n",
    "    def __init__(self,x1,x2,limi_number):\n",
    "        self.x1 = x1\n",
    "        self.x2 = x2\n",
    "        self.limit_number = limi_number\n",
    "    def __str__(self):\n",
    "        return '値の取りうる範囲を超えています{0} {1} {2} '.format(self.x1,self.x2,self.limit_number)\n",
    "def multiplication_limi(x1,x2,limit_number):\n",
    "    try:\n",
    "        x = x1 * x2\n",
    "        if x > limit_number:\n",
    "            raise MyValueLimitError(x1,x2,limit_number)\n",
    "        return x\n",
    "    except MyValueLimitError as vle:\n",
    "        print(vle)\n",
    "        return limit_number\n",
    "    except:\n",
    "        print('Unepected Error:', sys.exc_info())\n",
    "        return None\n",
    "limit_number = 10000\n",
    "multiplication_limi(100,101,limit_number)"
   ]
  },
  {
   "cell_type": "code",
   "execution_count": 3,
   "metadata": {},
   "outputs": [
    {
     "output_type": "error",
     "ename": "SyntaxError",
     "evalue": "invalid syntax (<ipython-input-3-a20d8cfad9f2>, line 9)",
     "traceback": [
      "\u001b[1;36m  File \u001b[1;32m\"<ipython-input-3-a20d8cfad9f2>\"\u001b[1;36m, line \u001b[1;32m9\u001b[0m\n\u001b[1;33m    reise MyDictKeyError(key)\u001b[0m\n\u001b[1;37m          ^\u001b[0m\n\u001b[1;31mSyntaxError\u001b[0m\u001b[1;31m:\u001b[0m invalid syntax\n"
     ]
    }
   ],
   "source": [
    "color_reference = {1: 'red',2: 'blue',3: 'yellow',4: 'green',5: 'purple'}\n",
    "class MyDictKeyError(Exception):\n",
    "    def __init__(self,key):\n",
    "        self.key = key\n",
    "    def __str__(self):\n",
    "        return '辞書にkeyが登録されていません{0}'.format(self.key)\n",
    "def get_dict_value(dict_tbl,key):\n",
    "    if key not in dict_tbl:\n",
    "        reise MyDictKeyError(key)\n",
    "    else:\n",
    "        return dict_tbl[key]\n",
    "my_dict = {1: 'red',2: 'blue',3: 'yellow'}\n",
    "try:\n",
    "    my_color = get_dict_value(my_dict,5)\n",
    "    except MyDictKeyError as err:\n",
    "        print(err)\n",
    "        key = err.args[0]\n",
    "        my_dict[key] = color_reference[key]\n",
    "        print(key,color_reference[key],'をmy_dictに追加しました')\n",
    "        my_color = color_reference[key]\n",
    "my_color"
   ]
  },
  {
   "cell_type": "code",
   "execution_count": null,
   "metadata": {},
   "outputs": [],
   "source": []
  }
 ]
}